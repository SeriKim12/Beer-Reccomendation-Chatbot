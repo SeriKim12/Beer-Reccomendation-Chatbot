{
  "cells": [
    {
      "cell_type": "markdown",
      "metadata": {
        "id": "view-in-github",
        "colab_type": "text"
      },
      "source": [
        "<a href=\"https://colab.research.google.com/github/SeriKim12/Beer-Recommendation-Chatbot/blob/main/%EC%9B%B9%EB%8D%B0%EB%AA%A8%EA%B5%AC%ED%98%840617~0620.ipynb\" target=\"_parent\"><img src=\"https://colab.research.google.com/assets/colab-badge.svg\" alt=\"Open In Colab\"/></a>"
      ]
    },
    {
      "cell_type": "code",
      "execution_count": 1,
      "metadata": {
        "colab": {
          "base_uri": "https://localhost:8080/"
        },
        "id": "xBqC0Uqzr2Ss",
        "outputId": "9f7bdcad-1be4-466b-bfc1-26e4e7435ead"
      },
      "outputs": [
        {
          "output_type": "stream",
          "name": "stdout",
          "text": [
            "Drive already mounted at /content/drive; to attempt to forcibly remount, call drive.mount(\"/content/drive\", force_remount=True).\n"
          ]
        }
      ],
      "source": [
        "from google.colab import drive\n",
        "drive.mount('/content/drive')"
      ]
    },
    {
      "cell_type": "code",
      "execution_count": 2,
      "metadata": {
        "colab": {
          "base_uri": "https://localhost:8080/",
          "height": 698
        },
        "id": "-oD-QXtXB11i",
        "outputId": "01b9e54d-396b-4e4b-aefc-9bc23480bc26"
      },
      "outputs": [
        {
          "output_type": "stream",
          "name": "stdout",
          "text": [
            "TensorFlow 1.x selected.\n",
            "Looking in indexes: https://pypi.org/simple, https://us-python.pkg.dev/colab-wheels/public/simple/\n",
            "Collecting numpy==1.19.5\n",
            "  Downloading numpy-1.19.5-cp37-cp37m-manylinux2010_x86_64.whl (14.8 MB)\n",
            "\u001b[K     |████████████████████████████████| 14.8 MB 23.4 MB/s \n",
            "\u001b[?25hInstalling collected packages: numpy\n",
            "  Attempting uninstall: numpy\n",
            "    Found existing installation: numpy 1.21.6\n",
            "    Uninstalling numpy-1.21.6:\n",
            "      Successfully uninstalled numpy-1.21.6\n",
            "\u001b[31mERROR: pip's dependency resolver does not currently take into account all the packages that are installed. This behaviour is the source of the following dependency conflicts.\n",
            "lucid 0.3.10 requires umap-learn, which is not installed.\n",
            "tensorflow 1.15.2 requires gast==0.2.2, but you have gast 0.5.3 which is incompatible.\n",
            "lucid 0.3.10 requires numpy<=1.19, but you have numpy 1.19.5 which is incompatible.\n",
            "xarray-einstats 0.2.2 requires numpy>=1.21, but you have numpy 1.19.5 which is incompatible.\n",
            "kapre 0.3.7 requires tensorflow>=2.0.0, but you have tensorflow 1.15.2 which is incompatible.\n",
            "datascience 0.10.6 requires folium==0.2.1, but you have folium 0.8.3 which is incompatible.\n",
            "albumentations 0.1.12 requires imgaug<0.2.7,>=0.2.5, but you have imgaug 0.2.9 which is incompatible.\u001b[0m\n",
            "Successfully installed numpy-1.19.5\n"
          ]
        },
        {
          "output_type": "display_data",
          "data": {
            "application/vnd.colab-display-data+json": {
              "pip_warning": {
                "packages": [
                  "numpy"
                ]
              }
            }
          },
          "metadata": {}
        },
        {
          "output_type": "stream",
          "name": "stdout",
          "text": [
            "Looking in indexes: https://pypi.org/simple, https://us-python.pkg.dev/colab-wheels/public/simple/\n",
            "Collecting h5py==2.10.0\n",
            "  Downloading h5py-2.10.0-cp37-cp37m-manylinux1_x86_64.whl (2.9 MB)\n",
            "\u001b[K     |████████████████████████████████| 2.9 MB 21.3 MB/s \n",
            "\u001b[?25hRequirement already satisfied: six in /usr/local/lib/python3.7/dist-packages (from h5py==2.10.0) (1.15.0)\n",
            "Requirement already satisfied: numpy>=1.7 in /usr/local/lib/python3.7/dist-packages (from h5py==2.10.0) (1.19.5)\n",
            "Installing collected packages: h5py\n",
            "  Attempting uninstall: h5py\n",
            "    Found existing installation: h5py 3.1.0\n",
            "    Uninstalling h5py-3.1.0:\n",
            "      Successfully uninstalled h5py-3.1.0\n",
            "Successfully installed h5py-2.10.0\n"
          ]
        }
      ],
      "source": [
        "## downgrade tensorflow version\n",
        "%tensorflow_version 1.x\n",
        "! pip install numpy==1.19.5\n",
        "! pip install 'h5py==2.10.0'"
      ]
    },
    {
      "cell_type": "code",
      "execution_count": null,
      "metadata": {
        "colab": {
          "base_uri": "https://localhost:8080/",
          "height": 35
        },
        "id": "_SH9zgwSp8sr",
        "outputId": "a108b034-6626-4fe4-9ac2-4a30ad155c4a"
      },
      "outputs": [
        {
          "data": {
            "application/vnd.google.colaboratory.intrinsic+json": {
              "type": "string"
            },
            "text/plain": [
              "'/content'"
            ]
          },
          "execution_count": 3,
          "metadata": {},
          "output_type": "execute_result"
        }
      ],
      "source": [
        "pwd"
      ]
    },
    {
      "cell_type": "code",
      "execution_count": 3,
      "metadata": {
        "colab": {
          "base_uri": "https://localhost:8080/"
        },
        "id": "2o-a7zgpps0r",
        "outputId": "1ba50406-4670-4e12-c0ba-1c90de12370c"
      },
      "outputs": [
        {
          "output_type": "stream",
          "name": "stdout",
          "text": [
            "Looking in indexes: https://pypi.org/simple, https://us-python.pkg.dev/colab-wheels/public/simple/\n",
            "Collecting flask==1.1.1\n",
            "  Downloading Flask-1.1.1-py2.py3-none-any.whl (94 kB)\n",
            "\u001b[K     |████████████████████████████████| 94 kB 2.7 MB/s \n",
            "\u001b[?25hCollecting flask-ngrok\n",
            "  Downloading flask_ngrok-0.0.25-py3-none-any.whl (3.1 kB)\n",
            "Collecting pyngrok==4.1.1\n",
            "  Downloading pyngrok-4.1.1.tar.gz (18 kB)\n",
            "Requirement already satisfied: itsdangerous==1.1.0 in /usr/local/lib/python3.7/dist-packages (from -r /content/drive/MyDrive/codes/web_demo/requirements.txt (line 4)) (1.1.0)\n",
            "Collecting gunicorn==19.9.0\n",
            "  Downloading gunicorn-19.9.0-py2.py3-none-any.whl (112 kB)\n",
            "\u001b[K     |████████████████████████████████| 112 kB 38.2 MB/s \n",
            "\u001b[?25hRequirement already satisfied: jinja2==2.11.3 in /usr/local/lib/python3.7/dist-packages (from -r /content/drive/MyDrive/codes/web_demo/requirements.txt (line 6)) (2.11.3)\n",
            "Requirement already satisfied: matplotlib>=1.4.3 in /usr/local/lib/python3.7/dist-packages (from -r /content/drive/MyDrive/codes/web_demo/requirements.txt (line 7)) (3.2.2)\n",
            "Requirement already satisfied: PyYAML<=4.2b1,>=3.11 in /usr/local/lib/python3.7/dist-packages (from -r /content/drive/MyDrive/codes/web_demo/requirements.txt (line 8)) (3.13)\n",
            "Requirement already satisfied: click>=5.1 in /usr/local/lib/python3.7/dist-packages (from flask==1.1.1->-r /content/drive/MyDrive/codes/web_demo/requirements.txt (line 1)) (7.1.2)\n",
            "Requirement already satisfied: Werkzeug>=0.15 in /usr/local/lib/python3.7/dist-packages (from flask==1.1.1->-r /content/drive/MyDrive/codes/web_demo/requirements.txt (line 1)) (1.0.1)\n",
            "Requirement already satisfied: future in /usr/local/lib/python3.7/dist-packages (from pyngrok==4.1.1->-r /content/drive/MyDrive/codes/web_demo/requirements.txt (line 3)) (0.16.0)\n",
            "Requirement already satisfied: MarkupSafe>=0.23 in /usr/local/lib/python3.7/dist-packages (from jinja2==2.11.3->-r /content/drive/MyDrive/codes/web_demo/requirements.txt (line 6)) (2.0.1)\n",
            "Requirement already satisfied: python-dateutil>=2.1 in /usr/local/lib/python3.7/dist-packages (from matplotlib>=1.4.3->-r /content/drive/MyDrive/codes/web_demo/requirements.txt (line 7)) (2.8.2)\n",
            "Requirement already satisfied: pyparsing!=2.0.4,!=2.1.2,!=2.1.6,>=2.0.1 in /usr/local/lib/python3.7/dist-packages (from matplotlib>=1.4.3->-r /content/drive/MyDrive/codes/web_demo/requirements.txt (line 7)) (3.0.9)\n",
            "Requirement already satisfied: cycler>=0.10 in /usr/local/lib/python3.7/dist-packages (from matplotlib>=1.4.3->-r /content/drive/MyDrive/codes/web_demo/requirements.txt (line 7)) (0.11.0)\n",
            "Requirement already satisfied: kiwisolver>=1.0.1 in /usr/local/lib/python3.7/dist-packages (from matplotlib>=1.4.3->-r /content/drive/MyDrive/codes/web_demo/requirements.txt (line 7)) (1.4.3)\n",
            "Requirement already satisfied: numpy>=1.11 in /usr/local/lib/python3.7/dist-packages (from matplotlib>=1.4.3->-r /content/drive/MyDrive/codes/web_demo/requirements.txt (line 7)) (1.19.5)\n",
            "Requirement already satisfied: typing-extensions in /usr/local/lib/python3.7/dist-packages (from kiwisolver>=1.0.1->matplotlib>=1.4.3->-r /content/drive/MyDrive/codes/web_demo/requirements.txt (line 7)) (4.1.1)\n",
            "Requirement already satisfied: six>=1.5 in /usr/local/lib/python3.7/dist-packages (from python-dateutil>=2.1->matplotlib>=1.4.3->-r /content/drive/MyDrive/codes/web_demo/requirements.txt (line 7)) (1.15.0)\n",
            "Requirement already satisfied: requests in /usr/local/lib/python3.7/dist-packages (from flask-ngrok->-r /content/drive/MyDrive/codes/web_demo/requirements.txt (line 2)) (2.23.0)\n",
            "Requirement already satisfied: urllib3!=1.25.0,!=1.25.1,<1.26,>=1.21.1 in /usr/local/lib/python3.7/dist-packages (from requests->flask-ngrok->-r /content/drive/MyDrive/codes/web_demo/requirements.txt (line 2)) (1.24.3)\n",
            "Requirement already satisfied: certifi>=2017.4.17 in /usr/local/lib/python3.7/dist-packages (from requests->flask-ngrok->-r /content/drive/MyDrive/codes/web_demo/requirements.txt (line 2)) (2022.6.15)\n",
            "Requirement already satisfied: chardet<4,>=3.0.2 in /usr/local/lib/python3.7/dist-packages (from requests->flask-ngrok->-r /content/drive/MyDrive/codes/web_demo/requirements.txt (line 2)) (3.0.4)\n",
            "Requirement already satisfied: idna<3,>=2.5 in /usr/local/lib/python3.7/dist-packages (from requests->flask-ngrok->-r /content/drive/MyDrive/codes/web_demo/requirements.txt (line 2)) (2.10)\n",
            "Building wheels for collected packages: pyngrok\n",
            "  Building wheel for pyngrok (setup.py) ... \u001b[?25l\u001b[?25hdone\n",
            "  Created wheel for pyngrok: filename=pyngrok-4.1.1-py3-none-any.whl size=15983 sha256=b6781f8f4443d38f00f4252bedf2d0aa0019f0884301991d90712b5a4ea89755\n",
            "  Stored in directory: /root/.cache/pip/wheels/b1/d9/12/045a042fee3127dc40ba6f5df2798aa2df38c414bf533ca765\n",
            "Successfully built pyngrok\n",
            "Installing collected packages: flask, pyngrok, gunicorn, flask-ngrok\n",
            "  Attempting uninstall: flask\n",
            "    Found existing installation: Flask 1.1.4\n",
            "    Uninstalling Flask-1.1.4:\n",
            "      Successfully uninstalled Flask-1.1.4\n",
            "  Attempting uninstall: gunicorn\n",
            "    Found existing installation: gunicorn 20.0.4\n",
            "    Uninstalling gunicorn-20.0.4:\n",
            "      Successfully uninstalled gunicorn-20.0.4\n",
            "Successfully installed flask-1.1.1 flask-ngrok-0.0.25 gunicorn-19.9.0 pyngrok-4.1.1\n"
          ]
        }
      ],
      "source": [
        "! pip install -r /content/drive/MyDrive/codes/web_demo/requirements.txt"
      ]
    },
    {
      "cell_type": "code",
      "execution_count": 4,
      "metadata": {
        "colab": {
          "base_uri": "https://localhost:8080/"
        },
        "id": "2g0Bfgjyps-z",
        "outputId": "1637d143-025c-42d3-8d00-ecb0a51ddb90"
      },
      "outputs": [
        {
          "output_type": "stream",
          "name": "stdout",
          "text": [
            "Authtoken saved to configuration file: /root/.ngrok2/ngrok.yml\n"
          ]
        }
      ],
      "source": [
        "! ngrok authtoken 2AkoK56srOPTg6kETOMQaVa4xIl_2ogUzwPLDHdeBDn3fZLDZ"
      ]
    },
    {
      "cell_type": "code",
      "execution_count": null,
      "metadata": {
        "colab": {
          "base_uri": "https://localhost:8080/"
        },
        "id": "AdFDxEC9rPKm",
        "outputId": "bb481db4-0cd4-4841-da53-909ba3d80c23"
      },
      "outputs": [
        {
          "data": {
            "text/plain": [
              "['도수', '향', '맛']"
            ]
          },
          "execution_count": 6,
          "metadata": {},
          "output_type": "execute_result"
        }
      ],
      "source": [
        "options = {'type' : '종류', 'abv' : '도수', 'flavor' : '향', 'taste' : '맛'}\n",
        "slot_dict = {'type' : ['ㅏ'], 'abv' : [], 'flavor' : [], 'taste' : []}\n",
        "[options[i] for i in slot_dict if not slot_dict[i]]"
      ]
    },
    {
      "cell_type": "code",
      "execution_count": null,
      "metadata": {
        "colab": {
          "base_uri": "https://localhost:8080/"
        },
        "id": "uCp4LWwnvmNo",
        "outputId": "3877590b-064c-4757-b3ec-1337ac1af1c1"
      },
      "outputs": [
        {
          "data": {
            "text/plain": [
              "['안해']"
            ]
          },
          "execution_count": 25,
          "metadata": {},
          "output_type": "execute_result"
        }
      ],
      "source": [
        "endings = ['quit', '종료', '그만', '멈춰', 'stop', '안마실래', '싫어', '안해', 'go away']\n",
        "userText = '안해 ㅅㅂ'\n",
        "\n",
        "[txt for txt in endings if txt in userText]"
      ]
    },
    {
      "cell_type": "code",
      "source": [
        "mType = \"맥주 종류는 '에일', 'IPA', '라거', '바이젠', '흑맥주'가 있어\\n\"\n",
        "ale = \"에일은 풍부한 향과 진한 색이 특징이야.\\n\" \n",
        "ipa = \"IPA는 인디아 페일에일의 준말로, 맛이 강하고 쌉쌀한 편이지.\\n\" \n",
        "lager = \"라거는 탄산이 많고 가볍고 청량해.\\n\" \n",
        "dark = \"흑맥주는 색이 까맣고 향미가 진해.\\n\"\n",
        "mType2 = ale + ipa + lager + dark\n",
        "mAbv = \"도수는 3도부터 8도까지 다양해.\\n\"\n",
        "mFlavor = \"향은 '과일'향, '홉'향, '꽃'향, '상큼한' 향, '커피'향, '스모키한' 향 등이 있어.\\n\"\n",
        "mTaste = \"맛은 '단' 맛, '달지 않은' 맛, '씁쓸한' 맛, '쓰지 않은' 맛,'신' 맛, '상큼한' 맛, '시지 않은' 맛,'과일' 맛, '구수한' 맛 등이 있지.\"        \n",
        "\n",
        "message = mType, mType2, mAbv, mFlavor, mTaste\n",
        "message"
      ],
      "metadata": {
        "colab": {
          "base_uri": "https://localhost:8080/"
        },
        "id": "NueB38WvF7AN",
        "outputId": "0c373aaf-d6aa-4050-dd9e-f509777dfe13"
      },
      "execution_count": null,
      "outputs": [
        {
          "output_type": "execute_result",
          "data": {
            "text/plain": [
              "(\"맥주 종류는 '에일', 'IPA', '라거', '바이젠', '흑맥주'가 있어\\n\",\n",
              " '에일은 풍부한 향과 진한 색이 특징이야.\\nIPA는 인디아 페일에일의 준말로, 맛이 강하고 쌉쌀한 편이지.\\n라거는 탄산이 많고 가볍고 청량해.\\n흑맥주는 색이 까맣고 향미가 진해.\\n',\n",
              " '도수는 3도부터 8도까지 다양해.\\n',\n",
              " \"향은 '과일'향, '홉'향, '꽃'향, '상큼한' 향, '커피'향, '스모키한' 향 등이 있어.\\n\",\n",
              " \"맛은 '단' 맛, '달지 않은' 맛, '씁쓸한' 맛, '쓰지 않은' 맛,'신' 맛, '상큼한' 맛, '시지 않은' 맛,'과일' 맛, '구수한' 맛 등이 있지.\")"
            ]
          },
          "metadata": {},
          "execution_count": 21
        }
      ]
    },
    {
      "cell_type": "code",
      "source": [
        "inferred_tags = ['abv']"
      ],
      "metadata": {
        "id": "gg32JGQqjKoC"
      },
      "execution_count": null,
      "outputs": []
    },
    {
      "cell_type": "code",
      "execution_count": 28,
      "metadata": {
        "colab": {
          "base_uri": "https://localhost:8080/"
        },
        "id": "kOOKGJCmr5jK",
        "outputId": "c434b3d9-6e98-4791-c9b0-02afeffa40e7"
      },
      "outputs": [
        {
          "output_type": "stream",
          "name": "stdout",
          "text": [
            "/content/drive/MyDrive/codes\n",
            "initializing!\n",
            "is_bert : True\n",
            "WARNING:tensorflow:From /content/drive/MyDrive/codes/codes/to_array/tokenizationK.py:133: The name tf.gfile.GFile is deprecated. Please use tf.io.gfile.GFile instead.\n",
            "\n",
            "initialized!\n",
            "WARNING:tensorflow:From /content/drive/MyDrive/codes/web_demo/app/main.py:38: The name tf.ConfigProto is deprecated. Please use tf.compat.v1.ConfigProto instead.\n",
            "\n",
            "2022-06-20 10:47:19.849272: I tensorflow/core/platform/profile_utils/cpu_utils.cc:94] CPU Frequency: 2200165000 Hz\n",
            "2022-06-20 10:47:19.849514: I tensorflow/compiler/xla/service/service.cc:168] XLA service 0x2d17100 initialized for platform Host (this does not guarantee that XLA will be used). Devices:\n",
            "2022-06-20 10:47:19.849556: I tensorflow/compiler/xla/service/service.cc:176]   StreamExecutor device (0): Host, Default Version\n",
            "2022-06-20 10:47:19.853602: I tensorflow/stream_executor/platform/default/dso_loader.cc:44] Successfully opened dynamic library libcuda.so.1\n",
            "2022-06-20 10:47:19.865237: E tensorflow/stream_executor/cuda/cuda_driver.cc:318] failed call to cuInit: CUDA_ERROR_NO_DEVICE: no CUDA-capable device is detected\n",
            "2022-06-20 10:47:19.865316: I tensorflow/stream_executor/cuda/cuda_diagnostics.cc:156] kernel driver does not appear to be running on this host (25ba3fca0b2e): /proc/driver/nvidia/version does not exist\n",
            "bert inputs : [<tf.Tensor 'input_ids:0' shape=(?, ?) dtype=int32>, <tf.Tensor 'input_mask:0' shape=(?, ?) dtype=int32>, <tf.Tensor 'segment_ids:0' shape=(?, ?) dtype=int32>]\n",
            "init ok\n",
            "WARNING:tensorflow:Entity <bound method KorBertLayer.call of <models.korbert_layer.KorBertLayer object at 0x7fe3421a9950>> could not be transformed and will be executed as-is. Please report this to the AutoGraph team. When filing the bug, set the verbosity to 10 (on Linux, `export AUTOGRAPH_VERBOSITY=10`) and attach the full output. Cause: module 'gast' has no attribute 'Index'\n",
            "WARNING:tensorflow:Entity <bound method KorBertLayer.call of <models.korbert_layer.KorBertLayer object at 0x7fe3421a9950>> could not be transformed and will be executed as-is. Please report this to the AutoGraph team. When filing the bug, set the verbosity to 10 (on Linux, `export AUTOGRAPH_VERBOSITY=10`) and attach the full output. Cause: module 'gast' has no attribute 'Index'\n",
            "call ok\n",
            "WARNING:tensorflow:From /tensorflow-1.15.2/python3.7/tensorflow_core/python/ops/resource_variable_ops.py:1630: calling BaseResourceVariable.__init__ (from tensorflow.python.ops.resource_variable_ops) with constraint is deprecated and will be removed in a future version.\n",
            "Instructions for updating:\n",
            "If using Keras pass *_constraint arguments to layers.\n",
            "WARNING:tensorflow:From /tensorflow-1.15.2/python3.7/tensorflow_core/python/ops/resource_variable_ops.py:1630: calling BaseResourceVariable.__init__ (from tensorflow.python.ops.resource_variable_ops) with constraint is deprecated and will be removed in a future version.\n",
            "Instructions for updating:\n",
            "If using Keras pass *_constraint arguments to layers.\n",
            "slots output : (?, ?, 6)\n",
            "Model: \"model\"\n",
            "__________________________________________________________________________________________________\n",
            "Layer (type)                    Output Shape         Param #     Connected to                     \n",
            "==================================================================================================\n",
            "input_ids (InputLayer)          [(None, None)]       0                                            \n",
            "__________________________________________________________________________________________________\n",
            "input_mask (InputLayer)         [(None, None)]       0                                            \n",
            "__________________________________________________________________________________________________\n",
            "segment_ids (InputLayer)        [(None, None)]       0                                            \n",
            "__________________________________________________________________________________________________\n",
            "KorBertLayer (KorBertLayer)     (None, None, 768)    109693440   input_ids[0][0]                  \n",
            "                                                                 input_mask[0][0]                 \n",
            "                                                                 segment_ids[0][0]                \n",
            "__________________________________________________________________________________________________\n",
            "dense (Dense)                   (None, None, 256)    196864      KorBertLayer[0][0]               \n",
            "__________________________________________________________________________________________________\n",
            "dense_1 (Dense)                 (None, None, 128)    32896       dense[0][0]                      \n",
            "__________________________________________________________________________________________________\n",
            "time_distributed (TimeDistribut (None, None, 6)      774         dense_1[0][0]                    \n",
            "==================================================================================================\n",
            "Total params: 109,923,974\n",
            "Trainable params: 71,109,254\n",
            "Non-trainable params: 38,814,720\n",
            "__________________________________________________________________________________________________\n",
            " * Serving Flask app \"app.main\" (lazy loading)\n",
            " * Environment: production\n",
            "\u001b[31m   WARNING: This is a development server. Do not use it in a production deployment.\u001b[0m\n",
            "\u001b[2m   Use a production WSGI server instead.\u001b[0m\n",
            " * Debug mode: off\n",
            "INFO:werkzeug: * Running on http://127.0.0.1:5000/ (Press CTRL+C to quit)\n",
            " * Running on http://2bf2-35-221-7-164.ngrok.io\n",
            " * Traffic stats available on http://127.0.0.1:4040\n",
            "INFO:werkzeug:127.0.0.1 - - [20/Jun/2022 10:47:35] \"\u001b[37mGET / HTTP/1.1\u001b[0m\" 200 -\n",
            "INFO:werkzeug:127.0.0.1 - - [20/Jun/2022 10:47:35] \"\u001b[37mGET /static/styles/style.css HTTP/1.1\u001b[0m\" 200 -\n",
            "INFO:werkzeug:127.0.0.1 - - [20/Jun/2022 10:47:37] \"\u001b[37mGET / HTTP/1.1\u001b[0m\" 200 -\n",
            "transform started\n",
            "['흑', '맥', '주_']\n",
            "[['types', 'types', 'types']]\n",
            "[[0.9997037  0.99981564 0.9998573 ]]\n",
            "slot_text: {'types': '흑맥주 ', 'abv': '', 'flavor': '', 'taste': ''}\n",
            "['도수', '향', '맛']\n",
            "['종류']\n",
            "INFO:werkzeug:127.0.0.1 - - [20/Jun/2022 10:47:41] \"\u001b[37mGET /get?msg=흑맥주 HTTP/1.1\u001b[0m\" 200 -\n",
            "transform started\n",
            "['커', '피', '향', '이_', '좋', '겠', '어_']\n",
            "[['flavor', 'flavor', 'O', 'O', 'O', 'O', 'O']]\n",
            "[[0.999951   0.9999448  0.9999919  0.99999344 0.9999939  0.9999937\n",
            "  0.9999924 ]]\n",
            "slot_text: {'types': '', 'abv': '', 'flavor': '커피', 'taste': ''}\n",
            "['도수', '맛']\n",
            "['종류', '향']\n",
            "INFO:werkzeug:127.0.0.1 - - [20/Jun/2022 10:47:46] \"\u001b[37mGET /get?msg=커피향이%20좋겠어 HTTP/1.1\u001b[0m\" 200 -\n",
            "transform started\n",
            "['없어_']\n",
            "[['O']]\n",
            "[[0.9999579]]\n",
            "slot_text: {'types': '', 'abv': '', 'flavor': '', 'taste': ''}\n",
            "['도수', '맛']\n",
            "['종류', '향']\n",
            "INFO:werkzeug:127.0.0.1 - - [20/Jun/2022 10:47:55] \"\u001b[37mGET /get?msg=없어 HTTP/1.1\u001b[0m\" 200 -\n",
            "transform started\n",
            "['바이', '젠', '_']\n",
            "[['types', 'types', 'types']]\n",
            "[[0.99980813 0.99989176 0.9997563 ]]\n",
            "slot_text: {'types': '바이젠 ', 'abv': '', 'flavor': '', 'taste': ''}\n",
            "['도수', '맛']\n",
            "['종류', '향']\n",
            "INFO:werkzeug:127.0.0.1 - - [20/Jun/2022 10:48:50] \"\u001b[37mGET /get?msg=바이젠 HTTP/1.1\u001b[0m\" 200 -\n",
            "Error in atexit._run_exitfuncs:\n",
            "Traceback (most recent call last):\n",
            "  File \"/usr/local/lib/python3.7/dist-packages/matplotlib/_pylab_helpers.py\", line 76, in destroy_all\n",
            "    gc.collect(1)\n",
            "KeyboardInterrupt\n"
          ]
        }
      ],
      "source": [
        "% cd /content/drive/MyDrive/codes\n",
        "\n",
        "! python web_demo/run.py"
      ]
    },
    {
      "cell_type": "code",
      "source": [
        ""
      ],
      "metadata": {
        "id": "_fHpNyGPJt7C"
      },
      "execution_count": null,
      "outputs": []
    }
  ],
  "metadata": {
    "colab": {
      "collapsed_sections": [],
      "name": "웹데모구현0617~0620.ipynb",
      "provenance": [],
      "mount_file_id": "12WUlTvtgr2J3n9jwbtIy6-5btYTySYAa",
      "authorship_tag": "ABX9TyMalwkQBXg5lbCEzl3yEdN9",
      "include_colab_link": true
    },
    "kernelspec": {
      "display_name": "Python 3",
      "name": "python3"
    },
    "language_info": {
      "name": "python"
    }
  },
  "nbformat": 4,
  "nbformat_minor": 0
}