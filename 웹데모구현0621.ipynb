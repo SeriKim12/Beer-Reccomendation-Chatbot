{
  "cells": [
    {
      "cell_type": "markdown",
      "metadata": {
        "id": "view-in-github",
        "colab_type": "text"
      },
      "source": [
        "<a href=\"https://colab.research.google.com/github/SeriKim12/Beer-Recommendation-Chatbot/blob/main/%EC%9B%B9%EB%8D%B0%EB%AA%A8%EA%B5%AC%ED%98%840621.ipynb\" target=\"_parent\"><img src=\"https://colab.research.google.com/assets/colab-badge.svg\" alt=\"Open In Colab\"/></a>"
      ]
    },
    {
      "cell_type": "code",
      "execution_count": 1,
      "metadata": {
        "colab": {
          "base_uri": "https://localhost:8080/"
        },
        "id": "xBqC0Uqzr2Ss",
        "outputId": "23ad2bed-62d1-48b9-c1a4-d990ad8c3cb2"
      },
      "outputs": [
        {
          "output_type": "stream",
          "name": "stdout",
          "text": [
            "Drive already mounted at /content/drive; to attempt to forcibly remount, call drive.mount(\"/content/drive\", force_remount=True).\n"
          ]
        }
      ],
      "source": [
        "from google.colab import drive\n",
        "drive.mount('/content/drive')"
      ]
    },
    {
      "cell_type": "code",
      "execution_count": 2,
      "metadata": {
        "colab": {
          "base_uri": "https://localhost:8080/",
          "height": 678
        },
        "id": "-oD-QXtXB11i",
        "outputId": "ffc30f8a-9869-46b9-8128-d1e185c83ee1"
      },
      "outputs": [
        {
          "output_type": "stream",
          "name": "stdout",
          "text": [
            "TensorFlow 1.x selected.\n",
            "Looking in indexes: https://pypi.org/simple, https://us-python.pkg.dev/colab-wheels/public/simple/\n",
            "Collecting numpy==1.19.5\n",
            "  Downloading numpy-1.19.5-cp37-cp37m-manylinux2010_x86_64.whl (14.8 MB)\n",
            "\u001b[K     |████████████████████████████████| 14.8 MB 5.3 MB/s \n",
            "\u001b[?25hInstalling collected packages: numpy\n",
            "  Attempting uninstall: numpy\n",
            "    Found existing installation: numpy 1.21.6\n",
            "    Uninstalling numpy-1.21.6:\n",
            "      Successfully uninstalled numpy-1.21.6\n",
            "\u001b[31mERROR: pip's dependency resolver does not currently take into account all the packages that are installed. This behaviour is the source of the following dependency conflicts.\n",
            "lucid 0.3.10 requires umap-learn, which is not installed.\n",
            "tensorflow 1.15.2 requires gast==0.2.2, but you have gast 0.5.3 which is incompatible.\n",
            "lucid 0.3.10 requires numpy<=1.19, but you have numpy 1.19.5 which is incompatible.\n",
            "xarray-einstats 0.2.2 requires numpy>=1.21, but you have numpy 1.19.5 which is incompatible.\n",
            "kapre 0.3.7 requires tensorflow>=2.0.0, but you have tensorflow 1.15.2 which is incompatible.\n",
            "datascience 0.10.6 requires folium==0.2.1, but you have folium 0.8.3 which is incompatible.\n",
            "albumentations 0.1.12 requires imgaug<0.2.7,>=0.2.5, but you have imgaug 0.2.9 which is incompatible.\u001b[0m\n",
            "Successfully installed numpy-1.19.5\n"
          ]
        },
        {
          "output_type": "display_data",
          "data": {
            "application/vnd.colab-display-data+json": {
              "pip_warning": {
                "packages": [
                  "numpy"
                ]
              }
            }
          },
          "metadata": {}
        },
        {
          "output_type": "stream",
          "name": "stdout",
          "text": [
            "Looking in indexes: https://pypi.org/simple, https://us-python.pkg.dev/colab-wheels/public/simple/\n",
            "Collecting h5py==2.10.0\n",
            "  Downloading h5py-2.10.0-cp37-cp37m-manylinux1_x86_64.whl (2.9 MB)\n",
            "\u001b[K     |████████████████████████████████| 2.9 MB 5.1 MB/s \n",
            "\u001b[?25hRequirement already satisfied: six in /usr/local/lib/python3.7/dist-packages (from h5py==2.10.0) (1.15.0)\n",
            "Requirement already satisfied: numpy>=1.7 in /usr/local/lib/python3.7/dist-packages (from h5py==2.10.0) (1.19.5)\n",
            "Installing collected packages: h5py\n",
            "  Attempting uninstall: h5py\n",
            "    Found existing installation: h5py 3.1.0\n",
            "    Uninstalling h5py-3.1.0:\n",
            "      Successfully uninstalled h5py-3.1.0\n",
            "Successfully installed h5py-2.10.0\n"
          ]
        }
      ],
      "source": [
        "## downgrade tensorflow version\n",
        "%tensorflow_version 1.x\n",
        "! pip install numpy==1.19.5\n",
        "! pip install 'h5py==2.10.0'"
      ]
    },
    {
      "cell_type": "code",
      "execution_count": 3,
      "metadata": {
        "colab": {
          "base_uri": "https://localhost:8080/",
          "height": 35
        },
        "id": "_SH9zgwSp8sr",
        "outputId": "c89a42ab-48e1-4700-bd00-57a0939ab0dc"
      },
      "outputs": [
        {
          "output_type": "execute_result",
          "data": {
            "text/plain": [
              "'/content'"
            ],
            "application/vnd.google.colaboratory.intrinsic+json": {
              "type": "string"
            }
          },
          "metadata": {},
          "execution_count": 3
        }
      ],
      "source": [
        "pwd"
      ]
    },
    {
      "cell_type": "code",
      "execution_count": 4,
      "metadata": {
        "colab": {
          "base_uri": "https://localhost:8080/"
        },
        "id": "2o-a7zgpps0r",
        "outputId": "eca9229e-5d78-4ba7-ea44-9a749d52f05b"
      },
      "outputs": [
        {
          "output_type": "stream",
          "name": "stdout",
          "text": [
            "Looking in indexes: https://pypi.org/simple, https://us-python.pkg.dev/colab-wheels/public/simple/\n",
            "Collecting flask==1.1.1\n",
            "  Downloading Flask-1.1.1-py2.py3-none-any.whl (94 kB)\n",
            "\u001b[K     |████████████████████████████████| 94 kB 2.3 MB/s \n",
            "\u001b[?25hCollecting flask-ngrok\n",
            "  Downloading flask_ngrok-0.0.25-py3-none-any.whl (3.1 kB)\n",
            "Collecting pyngrok==4.1.1\n",
            "  Downloading pyngrok-4.1.1.tar.gz (18 kB)\n",
            "Requirement already satisfied: itsdangerous==1.1.0 in /usr/local/lib/python3.7/dist-packages (from -r /content/drive/MyDrive/codes/web_demo/requirements.txt (line 4)) (1.1.0)\n",
            "Collecting gunicorn==19.9.0\n",
            "  Downloading gunicorn-19.9.0-py2.py3-none-any.whl (112 kB)\n",
            "\u001b[K     |████████████████████████████████| 112 kB 32.9 MB/s \n",
            "\u001b[?25hRequirement already satisfied: jinja2==2.11.3 in /usr/local/lib/python3.7/dist-packages (from -r /content/drive/MyDrive/codes/web_demo/requirements.txt (line 6)) (2.11.3)\n",
            "Requirement already satisfied: matplotlib>=1.4.3 in /usr/local/lib/python3.7/dist-packages (from -r /content/drive/MyDrive/codes/web_demo/requirements.txt (line 7)) (3.2.2)\n",
            "Requirement already satisfied: PyYAML<=4.2b1,>=3.11 in /usr/local/lib/python3.7/dist-packages (from -r /content/drive/MyDrive/codes/web_demo/requirements.txt (line 8)) (3.13)\n",
            "Requirement already satisfied: click>=5.1 in /usr/local/lib/python3.7/dist-packages (from flask==1.1.1->-r /content/drive/MyDrive/codes/web_demo/requirements.txt (line 1)) (7.1.2)\n",
            "Requirement already satisfied: Werkzeug>=0.15 in /usr/local/lib/python3.7/dist-packages (from flask==1.1.1->-r /content/drive/MyDrive/codes/web_demo/requirements.txt (line 1)) (1.0.1)\n",
            "Requirement already satisfied: future in /usr/local/lib/python3.7/dist-packages (from pyngrok==4.1.1->-r /content/drive/MyDrive/codes/web_demo/requirements.txt (line 3)) (0.16.0)\n",
            "Requirement already satisfied: MarkupSafe>=0.23 in /usr/local/lib/python3.7/dist-packages (from jinja2==2.11.3->-r /content/drive/MyDrive/codes/web_demo/requirements.txt (line 6)) (2.0.1)\n",
            "Requirement already satisfied: kiwisolver>=1.0.1 in /usr/local/lib/python3.7/dist-packages (from matplotlib>=1.4.3->-r /content/drive/MyDrive/codes/web_demo/requirements.txt (line 7)) (1.4.3)\n",
            "Requirement already satisfied: cycler>=0.10 in /usr/local/lib/python3.7/dist-packages (from matplotlib>=1.4.3->-r /content/drive/MyDrive/codes/web_demo/requirements.txt (line 7)) (0.11.0)\n",
            "Requirement already satisfied: python-dateutil>=2.1 in /usr/local/lib/python3.7/dist-packages (from matplotlib>=1.4.3->-r /content/drive/MyDrive/codes/web_demo/requirements.txt (line 7)) (2.8.2)\n",
            "Requirement already satisfied: pyparsing!=2.0.4,!=2.1.2,!=2.1.6,>=2.0.1 in /usr/local/lib/python3.7/dist-packages (from matplotlib>=1.4.3->-r /content/drive/MyDrive/codes/web_demo/requirements.txt (line 7)) (3.0.9)\n",
            "Requirement already satisfied: numpy>=1.11 in /usr/local/lib/python3.7/dist-packages (from matplotlib>=1.4.3->-r /content/drive/MyDrive/codes/web_demo/requirements.txt (line 7)) (1.19.5)\n",
            "Requirement already satisfied: typing-extensions in /usr/local/lib/python3.7/dist-packages (from kiwisolver>=1.0.1->matplotlib>=1.4.3->-r /content/drive/MyDrive/codes/web_demo/requirements.txt (line 7)) (4.1.1)\n",
            "Requirement already satisfied: six>=1.5 in /usr/local/lib/python3.7/dist-packages (from python-dateutil>=2.1->matplotlib>=1.4.3->-r /content/drive/MyDrive/codes/web_demo/requirements.txt (line 7)) (1.15.0)\n",
            "Requirement already satisfied: requests in /usr/local/lib/python3.7/dist-packages (from flask-ngrok->-r /content/drive/MyDrive/codes/web_demo/requirements.txt (line 2)) (2.23.0)\n",
            "Requirement already satisfied: certifi>=2017.4.17 in /usr/local/lib/python3.7/dist-packages (from requests->flask-ngrok->-r /content/drive/MyDrive/codes/web_demo/requirements.txt (line 2)) (2022.6.15)\n",
            "Requirement already satisfied: urllib3!=1.25.0,!=1.25.1,<1.26,>=1.21.1 in /usr/local/lib/python3.7/dist-packages (from requests->flask-ngrok->-r /content/drive/MyDrive/codes/web_demo/requirements.txt (line 2)) (1.24.3)\n",
            "Requirement already satisfied: chardet<4,>=3.0.2 in /usr/local/lib/python3.7/dist-packages (from requests->flask-ngrok->-r /content/drive/MyDrive/codes/web_demo/requirements.txt (line 2)) (3.0.4)\n",
            "Requirement already satisfied: idna<3,>=2.5 in /usr/local/lib/python3.7/dist-packages (from requests->flask-ngrok->-r /content/drive/MyDrive/codes/web_demo/requirements.txt (line 2)) (2.10)\n",
            "Building wheels for collected packages: pyngrok\n",
            "  Building wheel for pyngrok (setup.py) ... \u001b[?25l\u001b[?25hdone\n",
            "  Created wheel for pyngrok: filename=pyngrok-4.1.1-py3-none-any.whl size=15983 sha256=add14ab257971325ff454afd91356f09779e756bf1a287541b3b11dde57c6bc5\n",
            "  Stored in directory: /root/.cache/pip/wheels/b1/d9/12/045a042fee3127dc40ba6f5df2798aa2df38c414bf533ca765\n",
            "Successfully built pyngrok\n",
            "Installing collected packages: flask, pyngrok, gunicorn, flask-ngrok\n",
            "  Attempting uninstall: flask\n",
            "    Found existing installation: Flask 1.1.4\n",
            "    Uninstalling Flask-1.1.4:\n",
            "      Successfully uninstalled Flask-1.1.4\n",
            "  Attempting uninstall: gunicorn\n",
            "    Found existing installation: gunicorn 20.0.4\n",
            "    Uninstalling gunicorn-20.0.4:\n",
            "      Successfully uninstalled gunicorn-20.0.4\n",
            "Successfully installed flask-1.1.1 flask-ngrok-0.0.25 gunicorn-19.9.0 pyngrok-4.1.1\n"
          ]
        }
      ],
      "source": [
        "! pip install -r /content/drive/MyDrive/codes/web_demo/requirements.txt"
      ]
    },
    {
      "cell_type": "code",
      "execution_count": 5,
      "metadata": {
        "colab": {
          "base_uri": "https://localhost:8080/"
        },
        "id": "2g0Bfgjyps-z",
        "outputId": "780387d9-3181-4f63-c3ce-9be3e6007c4a"
      },
      "outputs": [
        {
          "output_type": "stream",
          "name": "stdout",
          "text": [
            "Authtoken saved to configuration file: /root/.ngrok2/ngrok.yml\n"
          ]
        }
      ],
      "source": [
        "! ngrok authtoken 2AkoK56srOPTg6kETOMQaVa4xIl_2ogUzwPLDHdeBDn3fZLDZ"
      ]
    },
    {
      "cell_type": "code",
      "execution_count": 41,
      "metadata": {
        "colab": {
          "base_uri": "https://localhost:8080/"
        },
        "id": "kOOKGJCmr5jK",
        "outputId": "581682a8-9173-4366-e841-61c610a04790"
      },
      "outputs": [
        {
          "output_type": "stream",
          "name": "stdout",
          "text": [
            "/content/drive/MyDrive/codes\n",
            "initializing!\n",
            "is_bert : True\n",
            "WARNING:tensorflow:From /content/drive/MyDrive/codes/codes/to_array/tokenizationK.py:133: The name tf.gfile.GFile is deprecated. Please use tf.io.gfile.GFile instead.\n",
            "\n",
            "initialized!\n",
            "Loading models ...\n",
            "WARNING:tensorflow:From /content/drive/MyDrive/codes/web_demo/app/main.py:45: The name tf.ConfigProto is deprecated. Please use tf.compat.v1.ConfigProto instead.\n",
            "\n",
            "2022-06-21 10:35:08.379381: I tensorflow/core/platform/profile_utils/cpu_utils.cc:94] CPU Frequency: 2199995000 Hz\n",
            "2022-06-21 10:35:08.379619: I tensorflow/compiler/xla/service/service.cc:168] XLA service 0x2da5100 initialized for platform Host (this does not guarantee that XLA will be used). Devices:\n",
            "2022-06-21 10:35:08.379661: I tensorflow/compiler/xla/service/service.cc:176]   StreamExecutor device (0): Host, Default Version\n",
            "2022-06-21 10:35:08.386489: I tensorflow/stream_executor/platform/default/dso_loader.cc:44] Successfully opened dynamic library libcuda.so.1\n",
            "2022-06-21 10:35:08.395950: E tensorflow/stream_executor/cuda/cuda_driver.cc:318] failed call to cuInit: CUDA_ERROR_NO_DEVICE: no CUDA-capable device is detected\n",
            "2022-06-21 10:35:08.396000: I tensorflow/stream_executor/cuda/cuda_diagnostics.cc:156] kernel driver does not appear to be running on this host (a3000f15e971): /proc/driver/nvidia/version does not exist\n",
            "bert inputs : [<tf.Tensor 'input_ids:0' shape=(?, ?) dtype=int32>, <tf.Tensor 'input_mask:0' shape=(?, ?) dtype=int32>, <tf.Tensor 'segment_ids:0' shape=(?, ?) dtype=int32>]\n",
            "init ok\n",
            "WARNING:tensorflow:Entity <bound method KorBertLayer.call of <models.korbert_layer.KorBertLayer object at 0x7f9a77663b90>> could not be transformed and will be executed as-is. Please report this to the AutoGraph team. When filing the bug, set the verbosity to 10 (on Linux, `export AUTOGRAPH_VERBOSITY=10`) and attach the full output. Cause: module 'gast' has no attribute 'Index'\n",
            "WARNING:tensorflow:Entity <bound method KorBertLayer.call of <models.korbert_layer.KorBertLayer object at 0x7f9a77663b90>> could not be transformed and will be executed as-is. Please report this to the AutoGraph team. When filing the bug, set the verbosity to 10 (on Linux, `export AUTOGRAPH_VERBOSITY=10`) and attach the full output. Cause: module 'gast' has no attribute 'Index'\n",
            "call ok\n",
            "WARNING:tensorflow:From /tensorflow-1.15.2/python3.7/tensorflow_core/python/ops/resource_variable_ops.py:1630: calling BaseResourceVariable.__init__ (from tensorflow.python.ops.resource_variable_ops) with constraint is deprecated and will be removed in a future version.\n",
            "Instructions for updating:\n",
            "If using Keras pass *_constraint arguments to layers.\n",
            "WARNING:tensorflow:From /tensorflow-1.15.2/python3.7/tensorflow_core/python/ops/resource_variable_ops.py:1630: calling BaseResourceVariable.__init__ (from tensorflow.python.ops.resource_variable_ops) with constraint is deprecated and will be removed in a future version.\n",
            "Instructions for updating:\n",
            "If using Keras pass *_constraint arguments to layers.\n",
            "slots output : (?, ?, 6)\n",
            "Model: \"model\"\n",
            "__________________________________________________________________________________________________\n",
            "Layer (type)                    Output Shape         Param #     Connected to                     \n",
            "==================================================================================================\n",
            "input_ids (InputLayer)          [(None, None)]       0                                            \n",
            "__________________________________________________________________________________________________\n",
            "input_mask (InputLayer)         [(None, None)]       0                                            \n",
            "__________________________________________________________________________________________________\n",
            "segment_ids (InputLayer)        [(None, None)]       0                                            \n",
            "__________________________________________________________________________________________________\n",
            "KorBertLayer (KorBertLayer)     (None, None, 768)    109693440   input_ids[0][0]                  \n",
            "                                                                 input_mask[0][0]                 \n",
            "                                                                 segment_ids[0][0]                \n",
            "__________________________________________________________________________________________________\n",
            "dense (Dense)                   (None, None, 256)    196864      KorBertLayer[0][0]               \n",
            "__________________________________________________________________________________________________\n",
            "dense_1 (Dense)                 (None, None, 128)    32896       dense[0][0]                      \n",
            "__________________________________________________________________________________________________\n",
            "time_distributed (TimeDistribut (None, None, 6)      774         dense_1[0][0]                    \n",
            "==================================================================================================\n",
            "Total params: 109,923,974\n",
            "Trainable params: 71,109,254\n",
            "Non-trainable params: 38,814,720\n",
            "__________________________________________________________________________________________________\n",
            " * Serving Flask app \"app.main\" (lazy loading)\n",
            " * Environment: production\n",
            "\u001b[31m   WARNING: This is a development server. Do not use it in a production deployment.\u001b[0m\n",
            "\u001b[2m   Use a production WSGI server instead.\u001b[0m\n",
            " * Debug mode: off\n",
            "INFO:werkzeug: * Running on http://127.0.0.1:5000/ (Press CTRL+C to quit)\n",
            " * Running on http://0eb4-35-196-251-123.ngrok.io\n",
            " * Traffic stats available on http://127.0.0.1:4040\n",
            "INFO:werkzeug:127.0.0.1 - - [21/Jun/2022 10:35:24] \"\u001b[37mGET / HTTP/1.1\u001b[0m\" 200 -\n",
            "INFO:werkzeug:127.0.0.1 - - [21/Jun/2022 10:35:25] \"\u001b[37mGET /static/styles/style.css HTTP/1.1\u001b[0m\" 200 -\n",
            "INFO:werkzeug:127.0.0.1 - - [21/Jun/2022 10:35:26] \"\u001b[37mGET / HTTP/1.1\u001b[0m\" 200 -\n",
            "transform started\n",
            "text_arr: ['바이', '젠', '_', '6', '도_', '이상', '으로_']\n",
            "inferred_tags: ['types', 'types', 'types', 'abv', 'abv', 'abv', 'O']\n",
            "slots_score: [0.9999405  0.9999621  0.9999347  0.9999869  0.9999807  0.99996316\n",
            " 0.9999777 ]\n",
            "slot_text: {'abv': '6도 이상', 'flavor': '', 'taste': '', 'types': '바이젠 '}\n",
            "app.slot_dict : {'types': ['바이젠'], 'abv': ['6도', '6도 이상'], 'flavor': [], 'taste': []}\n",
            "empty_slot : ['향', '맛']\n",
            "filled_slot : ['종류', '도수']\n",
            "INFO:werkzeug:127.0.0.1 - - [21/Jun/2022 10:35:33] \"\u001b[37mGET /get?msg=바이젠%206도%20이상으로 HTTP/1.1\u001b[0m\" 200 -\n",
            "transform started\n",
            "text_arr: ['없어_']\n",
            "inferred_tags: ['O']\n",
            "slots_score: [0.9999579]\n",
            "slot_text: {'abv': '', 'flavor': '', 'taste': '', 'types': ''}\n",
            "app.slot_dict : {'types': ['바이젠'], 'abv': ['6도', '6도 이상'], 'flavor': [], 'taste': []}\n",
            "empty_slot : ['향', '맛']\n",
            "filled_slot : ['종류', '도수']\n",
            "INFO:werkzeug:127.0.0.1 - - [21/Jun/2022 10:35:38] \"\u001b[37mGET /get?msg=없어 HTTP/1.1\u001b[0m\" 200 -\n",
            "transform started\n",
            "text_arr: ['흑', '맥', '주_']\n",
            "inferred_tags: ['types', 'types', 'types']\n",
            "slots_score: [0.9997037  0.99981564 0.9998573 ]\n",
            "slot_text: {'abv': '', 'flavor': '', 'taste': '', 'types': '흑맥주 '}\n",
            "app.slot_dict : {'types': ['흑맥주'], 'abv': [], 'flavor': [], 'taste': []}\n",
            "empty_slot : ['도수', '향', '맛']\n",
            "filled_slot : ['종류']\n",
            "INFO:werkzeug:127.0.0.1 - - [21/Jun/2022 10:35:41] \"\u001b[37mGET /get?msg=흑맥주 HTTP/1.1\u001b[0m\" 200 -\n",
            "transform started\n",
            "text_arr: ['과', '일', '향', '이면_', '좋', '겠', '어', '._', '단', '맛', '으로_']\n",
            "inferred_tags: ['flavor', 'flavor', 'O', 'O', 'O', 'O', 'O', 'O', 'taste', 'O', 'O']\n",
            "slots_score: [0.99991024 0.9999541  0.9999826  0.99999547 0.99999404 0.99999404\n",
            " 0.9999907  0.9999933  0.9999403  0.9999894  0.99999523]\n",
            "slot_text: {'abv': '', 'flavor': '과일', 'taste': '단', 'types': ''}\n",
            "app.slot_dict : {'types': ['흑맥주'], 'abv': [], 'flavor': ['과일'], 'taste': ['단']}\n",
            "empty_slot : ['도수']\n",
            "filled_slot : ['종류', '향', '맛']\n",
            "INFO:werkzeug:127.0.0.1 - - [21/Jun/2022 10:35:49] \"\u001b[37mGET /get?msg=과일향이면%20좋겠어.%20단맛으로 HTTP/1.1\u001b[0m\" 200 -\n",
            "transform started\n",
            "text_arr: ['없어_']\n",
            "inferred_tags: ['O']\n",
            "slots_score: [0.9999579]\n",
            "slot_text: {'abv': '', 'flavor': '', 'taste': '', 'types': ''}\n",
            "app.slot_dict : {'types': ['흑맥주'], 'abv': [], 'flavor': ['과일'], 'taste': ['단']}\n",
            "empty_slot : ['도수']\n",
            "filled_slot : ['종류', '향', '맛']\n",
            "INFO:werkzeug:127.0.0.1 - - [21/Jun/2022 10:35:52] \"\u001b[37mGET /get?msg=없어 HTTP/1.1\u001b[0m\" 200 -\n",
            "Exception ignored in: <module 'threading' from '/usr/lib/python3.7/threading.py'>\n",
            "Traceback (most recent call last):\n",
            "  File \"/usr/lib/python3.7/threading.py\", line 1274, in _shutdown\n",
            "    def _shutdown():\n",
            "KeyboardInterrupt\n"
          ]
        }
      ],
      "source": [
        "% cd /content/drive/MyDrive/codes\n",
        "\n",
        "! python web_demo/run.py"
      ]
    },
    {
      "cell_type": "code",
      "execution_count": 10,
      "metadata": {
        "id": "_fHpNyGPJt7C"
      },
      "outputs": [],
      "source": [
        "\n"
      ]
    }
  ],
  "metadata": {
    "colab": {
      "collapsed_sections": [],
      "name": "웹데모구현0621.ipynb",
      "provenance": [],
      "mount_file_id": "1Cj3onnpyLNe9gAto9Ji9XgrsLZsel4OF",
      "authorship_tag": "ABX9TyNZbIlMdFc7LYtjzW7iCGRz",
      "include_colab_link": true
    },
    "kernelspec": {
      "display_name": "Python 3",
      "name": "python3"
    },
    "language_info": {
      "name": "python"
    }
  },
  "nbformat": 4,
  "nbformat_minor": 0
}